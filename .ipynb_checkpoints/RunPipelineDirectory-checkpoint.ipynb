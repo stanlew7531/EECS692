{
 "cells": [
  {
   "cell_type": "code",
   "execution_count": 41,
   "metadata": {},
   "outputs": [],
   "source": [
    "%matplotlib inline\n",
    "from kpmrcnn.mrcnn_segmentation import COCODPredictor\n",
    "from maskrcnn_benchmark.config import cfg\n",
    "from maskrcnn_benchmark.modeling.detector import build_detection_model\n",
    "from maskrcnn_benchmark.utils.checkpoint import DetectronCheckpointer\n",
    "from maskrcnn_benchmark.structures.image_list import to_image_list\n",
    "from maskrcnn_benchmark.modeling.roi_heads.mask_head.inference import Masker\n",
    "import kpnet.network.inferenceNet as kpNetInference\n",
    "import numpy as np\n",
    "import cv2\n",
    "from matplotlib import pyplot as plt\n",
    "import glob\n",
    "import os"
   ]
  },
  {
   "cell_type": "code",
   "execution_count": 42,
   "metadata": {},
   "outputs": [],
   "source": [
    "mrcnn_cfg_path = \"/home/stanlew/src/kpam/mankey_recreate/kpmrcnn/e2e_mask_rcnn_R_50_FPN_1x_caffe2_singleobj.yaml\""
   ]
  },
  {
   "cell_type": "code",
   "execution_count": 43,
   "metadata": {},
   "outputs": [],
   "source": [
    "cfg.merge_from_file(mrcnn_cfg_path)"
   ]
  },
  {
   "cell_type": "code",
   "execution_count": 44,
   "metadata": {},
   "outputs": [],
   "source": [
    "mrcnn_predictor = COCODPredictor(cfg, min_image_size=800, confidence_threshold=0.7)"
   ]
  },
  {
   "cell_type": "code",
   "execution_count": 45,
   "metadata": {},
   "outputs": [],
   "source": [
    "files_directory = \"/home/stanlew/src/kpam/data/test_images/out_of_category/metal_mug_cardboard_handle\"\n",
    "output_images_dir = os.path.join(files_directory, \"kp_Images\")\n",
    "output_data_dir = os.path.join(files_directory, \"kp_Data\")\n",
    "\n",
    "if not os.path.exists(output_images_dir):\n",
    "        os.mkdir(output_images_dir)\n",
    "        \n",
    "if not os.path.exists(output_data_dir):\n",
    "        os.mkdir(output_data_dir)"
   ]
  },
  {
   "cell_type": "code",
   "execution_count": 46,
   "metadata": {},
   "outputs": [],
   "source": [
    "rgb_files_glob = glob.glob(os.path.join(files_directory, \"*_rgb.png\"))"
   ]
  },
  {
   "cell_type": "code",
   "execution_count": 47,
   "metadata": {},
   "outputs": [],
   "source": [
    "# Camera Constants from the RealSense\n",
    "ppx = 322.774\n",
    "ppy = 236.928\n",
    "fx = 615.113\n",
    "fy = 615.117\n",
    "\n",
    "rs_matrix = np.array([[fx,0,ppx],[0,fy,ppy],[0,0,1]])\n",
    "\n",
    "kp_label_radius = 5\n",
    "kp_label_colors = [(255,0,0),(0,255,0),(0,0,255)]"
   ]
  },
  {
   "cell_type": "code",
   "execution_count": 48,
   "metadata": {},
   "outputs": [],
   "source": [
    "for rgb_image_file in rgb_files_glob:\n",
    "    # get images\n",
    "    depth_image_file = rgb_image_file.replace(\"_rgb\", \"_depth\")\n",
    "    rgb_image_cv = cv2.imread(rgb_image_file)\n",
    "    depth_image_cv = cv2.imread(depth_image_file, cv2.IMREAD_ANYDEPTH)\n",
    "    \n",
    "    # do instance segmentation\n",
    "    predictions = mrcnn_predictor.run_on_opencv_image(rgb_image_cv)\n",
    "    masks = predictions.get_field('mask').numpy()\n",
    "    labels = predictions.get_field('labels').numpy()\n",
    "    boxes = predictions.bbox.numpy()\n",
    "    num_obj = masks.shape[0]\n",
    "    \n",
    "    # placeholder images to be outputted\n",
    "    rgb_image_cv_boxed = rgb_image_cv.copy()\n",
    "    rgb_image_cv_kp_labeled = rgb_image_cv.copy()\n",
    "    \n",
    "    # get data for each object\n",
    "    for i in range(num_obj-1):\n",
    "        label_i = int(labels[i])\n",
    "        #if label_i < len(mrcnn_predictor.CATEGORIES):\n",
    "            #name_i = mrcnn_predictor.CATEGORIES[label_i]\n",
    "            #print(name_i)\n",
    "        #else:\n",
    "            #print('category-%d' % i)\n",
    "\n",
    "        x_offset = int(boxes[i, 0])\n",
    "        y_offset = int(boxes[i, 1])\n",
    "        width = int(boxes[i, 2] - boxes[i, 0])\n",
    "        height = int(boxes[i, 3] - boxes[i, 1])\n",
    "\n",
    "        rgb_image_cv_boxed = cv2.rectangle(rgb_image_cv_boxed, (x_offset, y_offset), (x_offset + width, y_offset + height), (255,0,0), 5)\n",
    "\n",
    "        mask_i = masks[i, 0,:,:].astype(np.uint16)\n",
    "        \n",
    "        # run kpNet\n",
    "        kpNetResult = kpNetInference.doInference(rgb_image_cv, depth_image_cv, \\\n",
    "                         (x_offset, y_offset), \\\n",
    "                         (width, height), \\\n",
    "                        \"/home/stanlew/src/kpam/mankey_recreate/training_checkpoints_all_data/checkpoint-135.pth\")\n",
    "        \n",
    "        for j in range(kpNetResult.shape[1]):\n",
    "            x = kpNetResult[0, j]\n",
    "            y = kpNetResult[1, j]\n",
    "            z = kpNetResult[2, j]\n",
    "            u,v,w = np.matmul(rs_matrix, [x,y,z])\n",
    "            label_center = (int(u/w), int(v/w))\n",
    "            rgb_image_cv_kp_labeled = cv2.circle(rgb_image_cv_kp_labeled, label_center, kp_label_radius, kp_label_colors[j], -1)\n",
    "            #print(\"x = {0}, y = {1}, z = {2}\".format(x,y,z))\n",
    "            #print(\"u = {0}, v = {1}, w = {2}\".format(u,v,w))\n",
    "    \n",
    "    kpLabeledImgFileName = rgb_image_file \\\n",
    "        .replace(files_directory, \"\") \\\n",
    "        .replace(\"/\",\"\") \\\n",
    "        .replace(\"_rgb.png\",\"\") \\\n",
    "        + \"_kp_labeled.png\"\n",
    "    #print(kpLabeledImgFileName)\n",
    "    #print(output_images_dir)\n",
    "    #print(os.path.join(output_images_dir,kpLabeledImgFileName))\n",
    "    cv2.imwrite(os.path.join(output_images_dir,kpLabeledImgFileName), rgb_image_cv_kp_labeled)    \n",
    "    "
   ]
  },
  {
   "cell_type": "code",
   "execution_count": null,
   "metadata": {},
   "outputs": [],
   "source": []
  }
 ],
 "metadata": {
  "kernelspec": {
   "display_name": "Python 3",
   "language": "python",
   "name": "python3"
  },
  "language_info": {
   "codemirror_mode": {
    "name": "ipython",
    "version": 3
   },
   "file_extension": ".py",
   "mimetype": "text/x-python",
   "name": "python",
   "nbconvert_exporter": "python",
   "pygments_lexer": "ipython3",
   "version": "3.6.9"
  }
 },
 "nbformat": 4,
 "nbformat_minor": 4
}
