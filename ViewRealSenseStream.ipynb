{
 "cells": [
  {
   "cell_type": "markdown",
   "metadata": {},
   "source": [
    "### Note: \n",
    "Code used based heavily on RealSense library repo - see here: https://github.com/IntelRealSense/librealsense/blob/master/wrappers/python/examples/align-depth2color.py\n"
   ]
  },
  {
   "cell_type": "code",
   "execution_count": 13,
   "metadata": {},
   "outputs": [],
   "source": [
    "import pyrealsense2 as rs\n",
    "import numpy as np\n",
    "import cv2\n",
    "import os"
   ]
  },
  {
   "cell_type": "code",
   "execution_count": 14,
   "metadata": {},
   "outputs": [
    {
     "name": "stdout",
     "output_type": "stream",
     "text": [
      "Depth Scale is:  0.0010000000474974513\n"
     ]
    }
   ],
   "source": [
    "# Create a pipeline\n",
    "pipeline = rs.pipeline()\n",
    "\n",
    "#Create a config and configure the pipeline to stream\n",
    "#  different resolutions of color and depth streams\n",
    "config = rs.config()\n",
    "config.enable_stream(rs.stream.depth, 640, 480, rs.format.z16, 30)\n",
    "config.enable_stream(rs.stream.color, 640, 480, rs.format.bgr8, 30)\n",
    "\n",
    "# Start streaming\n",
    "profile = pipeline.start(config)\n",
    "\n",
    "# Getting the depth sensor's depth scale (see rs-align example for explanation)\n",
    "depth_sensor = profile.get_device().first_depth_sensor()\n",
    "depth_scale = depth_sensor.get_depth_scale()\n",
    "print(\"Depth Scale is: \" , depth_scale)\n",
    "\n",
    "# We will be removing the background of objects more than\n",
    "#  clipping_distance_in_meters meters away\n",
    "clipping_distance_in_meters = 1 #1 meter\n",
    "clipping_distance = clipping_distance_in_meters / depth_scale\n",
    "\n",
    "# Create an align object\n",
    "# rs.align allows us to perform alignment of depth frames to others frames\n",
    "# The \"align_to\" is the stream type to which we plan to align depth frames.\n",
    "align_to = rs.stream.color\n",
    "camera_intrinsics = profile.get_stream(rs.stream.color).as_video_stream_profile().get_intrinsics()\n",
    "align = rs.align(align_to)"
   ]
  },
  {
   "cell_type": "code",
   "execution_count": 15,
   "metadata": {},
   "outputs": [
    {
     "data": {
      "text/plain": [
       "width: 640, height: 480, ppx: 322.774, ppy: 236.928, fx: 615.113, fy: 615.117, model: 2, coeffs: [0, 0, 0, 0, 0]"
      ]
     },
     "execution_count": 15,
     "metadata": {},
     "output_type": "execute_result"
    }
   ],
   "source": [
    "camera_intrinsics"
   ]
  },
  {
   "cell_type": "code",
   "execution_count": 18,
   "metadata": {},
   "outputs": [],
   "source": [
    "frame_num =  1\n",
    "output_dir = \"/home/stanlew/src/kpam/data/test_images\"\n",
    "scene_label = \"out_of_category/metal_mug_cardboard_handle\""
   ]
  },
  {
   "cell_type": "code",
   "execution_count": 20,
   "metadata": {},
   "outputs": [
    {
     "name": "stdout",
     "output_type": "stream",
     "text": [
      "writing images for frame number: 2\n"
     ]
    }
   ],
   "source": [
    "frames = pipeline.wait_for_frames()\n",
    "# frames.get_depth_frame() is a 640x360 depth image\n",
    "\n",
    "# Align the depth frame to color frame\n",
    "aligned_frames = align.process(frames)\n",
    "\n",
    "# Get aligned frames\n",
    "aligned_depth_frame = aligned_frames.get_depth_frame() # aligned_depth_frame is a 640x480 depth image\n",
    "color_frame = aligned_frames.get_color_frame()\n",
    "\n",
    "# Validate that both frames are valid\n",
    "if aligned_depth_frame and color_frame:\n",
    "    \n",
    "    print(\"writing images for frame number: {0}\".format(frame_num))\n",
    "    depth_image = np.asanyarray(aligned_depth_frame.get_data())\n",
    "    color_image = np.asanyarray(color_frame.get_data())\n",
    "    \n",
    "    # Remove background - Set pixels further than clipping_distance to grey\n",
    "    grey_color = 153\n",
    "    #depth_image_3d = np.dstack((depth_image,depth_image,depth_image)) #depth image is 1 channel, color is 3 channels\n",
    "    #bg_removed = np.where((depth_image_3d > clipping_distance) | (depth_image_3d <= 0), grey_color, color_image)\n",
    "\n",
    "    # Render images\n",
    "    #depth_colormap = cv2.applyColorMap(cv2.convertScaleAbs(depth_image, alpha=0.03), cv2.COLORMAP_JET)\n",
    "    if(not os.path.exists(os.path.join(output_dir, scene_label))):\n",
    "        os.makedirs(os.path.join(output_dir, scene_label))\n",
    "    cv2.imwrite(os.path.join(output_dir, scene_label, \"{0}_rgb.png\".format(frame_num)), color_image)\n",
    "    cv2.imwrite(os.path.join(output_dir, scene_label, \"{0}_depth.png\".format(frame_num)), depth_image)\n",
    "\n",
    "    frame_num += 1\n",
    "else:\n",
    "    print(\"either aligned_depth_frame or color_frame incorrect!\")"
   ]
  },
  {
   "cell_type": "code",
   "execution_count": 12,
   "metadata": {},
   "outputs": [],
   "source": [
    "pipeline.stop()"
   ]
  },
  {
   "cell_type": "code",
   "execution_count": null,
   "metadata": {},
   "outputs": [],
   "source": []
  }
 ],
 "metadata": {
  "kernelspec": {
   "display_name": "Python 3",
   "language": "python",
   "name": "python3"
  },
  "language_info": {
   "codemirror_mode": {
    "name": "ipython",
    "version": 3
   },
   "file_extension": ".py",
   "mimetype": "text/x-python",
   "name": "python",
   "nbconvert_exporter": "python",
   "pygments_lexer": "ipython3",
   "version": "3.6.9"
  }
 },
 "nbformat": 4,
 "nbformat_minor": 4
}
